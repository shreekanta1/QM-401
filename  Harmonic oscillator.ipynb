{
 "cells": [
  {
   "cell_type": "markdown",
   "metadata": {},
   "source": [
    "# 1. Harmonic oscillator"
   ]
  },
  {
   "cell_type": "markdown",
   "metadata": {},
   "source": [
    "A point mass executing simple harmonic motion is called harmonic oscillator."
   ]
  },
  {
   "cell_type": "markdown",
   "metadata": {},
   "source": [
    "## 1.1 Hookes law"
   ]
  },
  {
   "cell_type": "markdown",
   "metadata": {},
   "source": [
    "It states that \"the restoring force is directly proportional to the displacement but acts in opposite direction.\""
   ]
  },
  {
   "cell_type": "markdown",
   "metadata": {},
   "source": [
    "$F=-kx$"
   ]
  },
  {
   "cell_type": "markdown",
   "metadata": {},
   "source": [
    "the potential associated with restoring force is given by"
   ]
  },
  {
   "cell_type": "markdown",
   "metadata": {},
   "source": [
    "$V=\\frac{1}{2}m\\omega^2{x^2}$"
   ]
  },
  {
   "cell_type": "markdown",
   "metadata": {},
   "source": [
    "where $k=m\\omega^2$ and x is displacement."
   ]
  },
  {
   "cell_type": "markdown",
   "metadata": {},
   "source": [
    "the schrodinger wave equation for harmonic oscillator is \n",
    "$\\frac{d^2\\psi}{dx^2}=\\frac{2m}{\\hbar^2}(E-\\frac{1}{2}kx^2)\\psi=0$"
   ]
  },
  {
   "cell_type": "markdown",
   "metadata": {},
   "source": [
    "![img](https://lh3.googleusercontent.com/proxy/TCEZCCDtf3Ou4ZG2W5Ys0px1x9xgm3rw0k363vMQecGWyTzi2ioUTDvxO9u3aPsBD5ovoWANzaMc-lv6HdJecOmB1OrFe7v6PebP2jBr0jzQH2KA0_4pCuC9)"
   ]
  },
  {
   "cell_type": "markdown",
   "metadata": {},
   "source": [
    "![img](https://scipython.com/static/media/uploads/blog/sho/sho-psi1-6.png)"
   ]
  },
  {
   "cell_type": "code",
   "execution_count": null,
   "metadata": {},
   "outputs": [],
   "source": []
  }
 ],
 "metadata": {
  "kernelspec": {
   "display_name": "Python 3",
   "language": "python",
   "name": "python3"
  },
  "language_info": {
   "codemirror_mode": {
    "name": "ipython",
    "version": 3
   },
   "file_extension": ".py",
   "mimetype": "text/x-python",
   "name": "python",
   "nbconvert_exporter": "python",
   "pygments_lexer": "ipython3",
   "version": "3.7.6"
  }
 },
 "nbformat": 4,
 "nbformat_minor": 4
}
